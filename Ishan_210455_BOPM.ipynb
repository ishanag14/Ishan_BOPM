{
 "cells": [
  {
   "cell_type": "code",
   "execution_count": 1,
   "id": "50fe6469",
   "metadata": {},
   "outputs": [],
   "source": [
    "import pandas as pd\n",
    "import numpy as np\n",
    "import math\n",
    "from math import sqrt\n",
    "from math import exp\n",
    "from math import pow\n",
    "import array as arr"
   ]
  },
  {
   "cell_type": "code",
   "execution_count": 2,
   "id": "2927a5ee",
   "metadata": {},
   "outputs": [],
   "source": [
    "df = pd.read_csv('indexprice.csv')"
   ]
  },
  {
   "cell_type": "code",
   "execution_count": 3,
   "id": "8edf85fd",
   "metadata": {},
   "outputs": [
    {
     "name": "stdout",
     "output_type": "stream",
     "text": [
      "Columns names:\n",
      "['Date', 'Open', 'High', 'Low', 'Close', 'Adj Close', 'Volume']\n"
     ]
    }
   ],
   "source": [
    "columns_names=df.columns.tolist()\n",
    "print(\"Columns names:\")\n",
    "print(columns_names)"
   ]
  },
  {
   "cell_type": "code",
   "execution_count": 4,
   "id": "cb6e60c2",
   "metadata": {},
   "outputs": [
    {
     "data": {
      "text/plain": [
       "(248, 7)"
      ]
     },
     "execution_count": 4,
     "metadata": {},
     "output_type": "execute_result"
    }
   ],
   "source": [
    "df.shape"
   ]
  },
  {
   "cell_type": "code",
   "execution_count": 5,
   "id": "07ad2935",
   "metadata": {},
   "outputs": [
    {
     "data": {
      "text/html": [
       "<div>\n",
       "<style scoped>\n",
       "    .dataframe tbody tr th:only-of-type {\n",
       "        vertical-align: middle;\n",
       "    }\n",
       "\n",
       "    .dataframe tbody tr th {\n",
       "        vertical-align: top;\n",
       "    }\n",
       "\n",
       "    .dataframe thead th {\n",
       "        text-align: right;\n",
       "    }\n",
       "</style>\n",
       "<table border=\"1\" class=\"dataframe\">\n",
       "  <thead>\n",
       "    <tr style=\"text-align: right;\">\n",
       "      <th></th>\n",
       "      <th>Date</th>\n",
       "      <th>Open</th>\n",
       "      <th>High</th>\n",
       "      <th>Low</th>\n",
       "      <th>Close</th>\n",
       "      <th>Adj Close</th>\n",
       "      <th>Volume</th>\n",
       "    </tr>\n",
       "  </thead>\n",
       "  <tbody>\n",
       "    <tr>\n",
       "      <th>0</th>\n",
       "      <td>2022-01-03</td>\n",
       "      <td>17387.150391</td>\n",
       "      <td>17646.650391</td>\n",
       "      <td>17383.300781</td>\n",
       "      <td>17625.699219</td>\n",
       "      <td>17625.699219</td>\n",
       "      <td>200500</td>\n",
       "    </tr>\n",
       "    <tr>\n",
       "      <th>1</th>\n",
       "      <td>2022-01-04</td>\n",
       "      <td>17681.400391</td>\n",
       "      <td>17827.599609</td>\n",
       "      <td>17593.550781</td>\n",
       "      <td>17805.250000</td>\n",
       "      <td>17805.250000</td>\n",
       "      <td>247400</td>\n",
       "    </tr>\n",
       "    <tr>\n",
       "      <th>2</th>\n",
       "      <td>2022-01-05</td>\n",
       "      <td>17820.099609</td>\n",
       "      <td>17944.699219</td>\n",
       "      <td>17748.849609</td>\n",
       "      <td>17925.250000</td>\n",
       "      <td>17925.250000</td>\n",
       "      <td>251500</td>\n",
       "    </tr>\n",
       "    <tr>\n",
       "      <th>3</th>\n",
       "      <td>2022-01-06</td>\n",
       "      <td>17768.500000</td>\n",
       "      <td>17797.949219</td>\n",
       "      <td>17655.550781</td>\n",
       "      <td>17745.900391</td>\n",
       "      <td>17745.900391</td>\n",
       "      <td>236500</td>\n",
       "    </tr>\n",
       "    <tr>\n",
       "      <th>4</th>\n",
       "      <td>2022-01-07</td>\n",
       "      <td>17797.599609</td>\n",
       "      <td>17905.000000</td>\n",
       "      <td>17704.550781</td>\n",
       "      <td>17812.699219</td>\n",
       "      <td>17812.699219</td>\n",
       "      <td>239300</td>\n",
       "    </tr>\n",
       "  </tbody>\n",
       "</table>\n",
       "</div>"
      ],
      "text/plain": [
       "         Date          Open          High           Low         Close  \\\n",
       "0  2022-01-03  17387.150391  17646.650391  17383.300781  17625.699219   \n",
       "1  2022-01-04  17681.400391  17827.599609  17593.550781  17805.250000   \n",
       "2  2022-01-05  17820.099609  17944.699219  17748.849609  17925.250000   \n",
       "3  2022-01-06  17768.500000  17797.949219  17655.550781  17745.900391   \n",
       "4  2022-01-07  17797.599609  17905.000000  17704.550781  17812.699219   \n",
       "\n",
       "      Adj Close  Volume  \n",
       "0  17625.699219  200500  \n",
       "1  17805.250000  247400  \n",
       "2  17925.250000  251500  \n",
       "3  17745.900391  236500  \n",
       "4  17812.699219  239300  "
      ]
     },
     "execution_count": 5,
     "metadata": {},
     "output_type": "execute_result"
    }
   ],
   "source": [
    "df.head()"
   ]
  },
  {
   "cell_type": "code",
   "execution_count": 6,
   "id": "0a819411",
   "metadata": {},
   "outputs": [],
   "source": [
    "df[\"ror\"]= ((df[\"Close\"]/df[\"Open\"]) -1) "
   ]
  },
  {
   "cell_type": "code",
   "execution_count": 7,
   "id": "f6a2490c",
   "metadata": {},
   "outputs": [
    {
     "data": {
      "text/html": [
       "<div>\n",
       "<style scoped>\n",
       "    .dataframe tbody tr th:only-of-type {\n",
       "        vertical-align: middle;\n",
       "    }\n",
       "\n",
       "    .dataframe tbody tr th {\n",
       "        vertical-align: top;\n",
       "    }\n",
       "\n",
       "    .dataframe thead th {\n",
       "        text-align: right;\n",
       "    }\n",
       "</style>\n",
       "<table border=\"1\" class=\"dataframe\">\n",
       "  <thead>\n",
       "    <tr style=\"text-align: right;\">\n",
       "      <th></th>\n",
       "      <th>Date</th>\n",
       "      <th>Open</th>\n",
       "      <th>High</th>\n",
       "      <th>Low</th>\n",
       "      <th>Close</th>\n",
       "      <th>Adj Close</th>\n",
       "      <th>Volume</th>\n",
       "      <th>ror</th>\n",
       "    </tr>\n",
       "  </thead>\n",
       "  <tbody>\n",
       "    <tr>\n",
       "      <th>0</th>\n",
       "      <td>2022-01-03</td>\n",
       "      <td>17387.150391</td>\n",
       "      <td>17646.650391</td>\n",
       "      <td>17383.300781</td>\n",
       "      <td>17625.699219</td>\n",
       "      <td>17625.699219</td>\n",
       "      <td>200500</td>\n",
       "      <td>0.013720</td>\n",
       "    </tr>\n",
       "    <tr>\n",
       "      <th>1</th>\n",
       "      <td>2022-01-04</td>\n",
       "      <td>17681.400391</td>\n",
       "      <td>17827.599609</td>\n",
       "      <td>17593.550781</td>\n",
       "      <td>17805.250000</td>\n",
       "      <td>17805.250000</td>\n",
       "      <td>247400</td>\n",
       "      <td>0.007005</td>\n",
       "    </tr>\n",
       "    <tr>\n",
       "      <th>2</th>\n",
       "      <td>2022-01-05</td>\n",
       "      <td>17820.099609</td>\n",
       "      <td>17944.699219</td>\n",
       "      <td>17748.849609</td>\n",
       "      <td>17925.250000</td>\n",
       "      <td>17925.250000</td>\n",
       "      <td>251500</td>\n",
       "      <td>0.005901</td>\n",
       "    </tr>\n",
       "    <tr>\n",
       "      <th>3</th>\n",
       "      <td>2022-01-06</td>\n",
       "      <td>17768.500000</td>\n",
       "      <td>17797.949219</td>\n",
       "      <td>17655.550781</td>\n",
       "      <td>17745.900391</td>\n",
       "      <td>17745.900391</td>\n",
       "      <td>236500</td>\n",
       "      <td>-0.001272</td>\n",
       "    </tr>\n",
       "    <tr>\n",
       "      <th>4</th>\n",
       "      <td>2022-01-07</td>\n",
       "      <td>17797.599609</td>\n",
       "      <td>17905.000000</td>\n",
       "      <td>17704.550781</td>\n",
       "      <td>17812.699219</td>\n",
       "      <td>17812.699219</td>\n",
       "      <td>239300</td>\n",
       "      <td>0.000848</td>\n",
       "    </tr>\n",
       "  </tbody>\n",
       "</table>\n",
       "</div>"
      ],
      "text/plain": [
       "         Date          Open          High           Low         Close  \\\n",
       "0  2022-01-03  17387.150391  17646.650391  17383.300781  17625.699219   \n",
       "1  2022-01-04  17681.400391  17827.599609  17593.550781  17805.250000   \n",
       "2  2022-01-05  17820.099609  17944.699219  17748.849609  17925.250000   \n",
       "3  2022-01-06  17768.500000  17797.949219  17655.550781  17745.900391   \n",
       "4  2022-01-07  17797.599609  17905.000000  17704.550781  17812.699219   \n",
       "\n",
       "      Adj Close  Volume       ror  \n",
       "0  17625.699219  200500  0.013720  \n",
       "1  17805.250000  247400  0.007005  \n",
       "2  17925.250000  251500  0.005901  \n",
       "3  17745.900391  236500 -0.001272  \n",
       "4  17812.699219  239300  0.000848  "
      ]
     },
     "execution_count": 7,
     "metadata": {},
     "output_type": "execute_result"
    }
   ],
   "source": [
    "df.head()"
   ]
  },
  {
   "cell_type": "code",
   "execution_count": 8,
   "id": "af8dc7e4",
   "metadata": {},
   "outputs": [
    {
     "data": {
      "text/plain": [
       "0    0.013720\n",
       "1    0.007005\n",
       "2    0.005901\n",
       "3   -0.001272\n",
       "4    0.000848\n",
       "Name: ror, dtype: float64"
      ]
     },
     "execution_count": 8,
     "metadata": {},
     "output_type": "execute_result"
    }
   ],
   "source": [
    "vol = df['ror']\n",
    "vol.head()"
   ]
  },
  {
   "cell_type": "code",
   "execution_count": 9,
   "id": "900c2086",
   "metadata": {},
   "outputs": [
    {
     "name": "stdout",
     "output_type": "stream",
     "text": [
      "std    0.130455\n",
      "Name: ror, dtype: float64\n"
     ]
    }
   ],
   "source": [
    "volatility = vol.agg([np.std]) *sqrt(252)\n",
    "print(volatility)"
   ]
  },
  {
   "cell_type": "code",
   "execution_count": 10,
   "id": "ddce70c4",
   "metadata": {},
   "outputs": [
    {
     "name": "stdout",
     "output_type": "stream",
     "text": [
      "std    0.008218\n",
      "Name: ror, dtype: float64\n"
     ]
    }
   ],
   "source": [
    "std_dev  = vol.agg([np.std])\n",
    "print(std_dev)"
   ]
  },
  {
   "cell_type": "code",
   "execution_count": 11,
   "id": "3b9665f7",
   "metadata": {},
   "outputs": [],
   "source": [
    "def rnp(N):\n",
    "    dt = 200/(365*N)\n",
    "    U = exp(volatility * sqrt(dt))\n",
    "    D = 1/U\n",
    "    r = 0.06\n",
    "    R = exp(r*dt)\n",
    "    alpha = (R-D)/(U-D)\n",
    "    return alpha "
   ]
  },
  {
   "cell_type": "code",
   "execution_count": 12,
   "id": "ea2bd6d6",
   "metadata": {},
   "outputs": [
    {
     "name": "stdout",
     "output_type": "stream",
     "text": [
      "Date\n",
      "2023-03-03 00:00:00+05:30    17594.349609\n",
      "Name: Close, dtype: float64\n"
     ]
    }
   ],
   "source": [
    "import yfinance as yf\n",
    "\n",
    "nifty50 = yf.Ticker(\"^NSEI\")\n",
    "\n",
    "df = nifty50.history(period=\"1s\")\n",
    "S = df[\"Close\"]\n",
    "print(S)"
   ]
  },
  {
   "cell_type": "code",
   "execution_count": 13,
   "id": "a7c7c320",
   "metadata": {},
   "outputs": [],
   "source": [
    "def bopm(N):\n",
    "    dt = 200/(365*N)\n",
    "    U = exp(std_dev * sqrt(dt))\n",
    "    D = 1/U\n",
    "    matrix = np.zeros((N+1,N+1))\n",
    "    for j in range(N+1):\n",
    "        for i in range(j+1):\n",
    "            matrix[i,j] = S*pow(D,i) * pow(U,j-i)\n",
    "    return matrix"
   ]
  },
  {
   "cell_type": "code",
   "execution_count": 14,
   "id": "86c24057",
   "metadata": {},
   "outputs": [
    {
     "name": "stdout",
     "output_type": "stream",
     "text": [
      "[[17594.34960938 17647.94573123 17701.70511824 17755.62826775\n",
      "  17809.71567861]\n",
      " [    0.         17540.91625685 17594.34960938 17647.94573123\n",
      "  17701.70511824]\n",
      " [    0.             0.         17487.64517933 17540.91625685\n",
      "  17594.34960938]\n",
      " [    0.             0.             0.         17434.53588399\n",
      "  17487.64517933]\n",
      " [    0.             0.             0.             0.\n",
      "  17381.58787951]]\n"
     ]
    }
   ],
   "source": [
    "x = bopm(4)\n",
    "print(x)"
   ]
  },
  {
   "cell_type": "code",
   "execution_count": 15,
   "id": "cbd4436c",
   "metadata": {},
   "outputs": [
    {
     "name": "stdout",
     "output_type": "stream",
     "text": [
      "[[17594.34960938 17642.2797384  17690.34043759 17738.53206266\n",
      "  17786.85497025 17835.30951802]\n",
      " [    0.         17546.5496958  17594.34960938 17642.2797384\n",
      "  17690.34043759 17738.53206266]\n",
      " [    0.             0.         17498.87964389 17546.5496958\n",
      "  17594.34960937 17642.2797384 ]\n",
      " [    0.             0.             0.         17451.33910086\n",
      "  17498.87964389 17546.5496958 ]\n",
      " [    0.             0.             0.             0.\n",
      "  17403.92771486 17451.33910086]\n",
      " [    0.             0.             0.             0.\n",
      "      0.         17356.64513498]]\n"
     ]
    }
   ],
   "source": [
    "y = bopm(5)\n",
    "print(y)"
   ]
  },
  {
   "cell_type": "code",
   "execution_count": 16,
   "id": "f2dd6f41",
   "metadata": {},
   "outputs": [
    {
     "name": "stdout",
     "output_type": "stream",
     "text": [
      "[[17594.34960938 17628.22782349 17662.17127068 17696.18007654\n",
      "  17730.25436693 17764.39426793 17798.59990588 17832.87140736\n",
      "  17867.20889919 17901.61250843 17936.08236239]\n",
      " [    0.         17560.53650296 17594.34960938 17628.22782349\n",
      "  17662.17127068 17696.18007654 17730.25436693 17764.39426793\n",
      "  17798.59990588 17832.87140736 17867.20889919]\n",
      " [    0.             0.         17526.78837911 17560.53650296\n",
      "  17594.34960938 17628.22782349 17662.17127068 17696.18007654\n",
      "  17730.25436693 17764.39426793 17798.59990588]\n",
      " [    0.             0.             0.         17493.10511296\n",
      "  17526.78837911 17560.53650296 17594.34960938 17628.22782349\n",
      "  17662.17127068 17696.18007654 17730.25436693]\n",
      " [    0.             0.             0.             0.\n",
      "  17459.48657986 17493.10511296 17526.78837911 17560.53650296\n",
      "  17594.34960938 17628.22782349 17662.17127068]\n",
      " [    0.             0.             0.             0.\n",
      "      0.         17425.9326554  17459.48657986 17493.10511296\n",
      "  17526.78837911 17560.53650296 17594.34960938]\n",
      " [    0.             0.             0.             0.\n",
      "      0.             0.         17392.44321541 17425.9326554\n",
      "  17459.48657986 17493.10511296 17526.78837911]\n",
      " [    0.             0.             0.             0.\n",
      "      0.             0.             0.         17359.01813598\n",
      "  17392.44321541 17425.9326554  17459.48657986]\n",
      " [    0.             0.             0.             0.\n",
      "      0.             0.             0.             0.\n",
      "  17325.6572934  17359.01813598 17392.44321541]\n",
      " [    0.             0.             0.             0.\n",
      "      0.             0.             0.             0.\n",
      "      0.         17292.36056423 17325.6572934 ]\n",
      " [    0.             0.             0.             0.\n",
      "      0.             0.             0.             0.\n",
      "      0.             0.         17259.12782526]]\n"
     ]
    }
   ],
   "source": [
    "z = bopm(10)\n",
    "print(z)"
   ]
  },
  {
   "cell_type": "code",
   "execution_count": 17,
   "id": "4832cf87",
   "metadata": {},
   "outputs": [],
   "source": [
    "#Exercise Price\n",
    "E = 17500"
   ]
  },
  {
   "cell_type": "code",
   "execution_count": 18,
   "id": "b9afbed2",
   "metadata": {},
   "outputs": [],
   "source": [
    "def call(N):\n",
    "    dt = 200/(365*N)\n",
    "    R = exp(0.06*dt)\n",
    "    pro = rnp(N)\n",
    "    matrix = bopm(N)\n",
    "    a = [0] * (N+1)\n",
    "    for i in range(N):\n",
    "        a[i] = matrix[i,N]\n",
    "    for j in range(N+1):\n",
    "        if(j==0):\n",
    "            p = [None] * (N-j+1)\n",
    "            for k in range(N+1):\n",
    "                p[k] = max(0,a[k]-E)\n",
    "        else:\n",
    "            q=p\n",
    "            for k in range(N+1-j):\n",
    "                x = p[k]*pro\n",
    "                y = p[k+1]*(1-pro)\n",
    "                q[k] = (x+y)/R\n",
    "    op = q[0]\n",
    "    return op"
   ]
  },
  {
   "cell_type": "code",
   "execution_count": 19,
   "id": "a1540f8f",
   "metadata": {},
   "outputs": [],
   "source": [
    "def put(N):\n",
    "    dt = 200/(365*N)\n",
    "    R = exp(0.06*dt)\n",
    "    pro = rnp(N)\n",
    "    matrix = bopm(N)\n",
    "    a = [0] * (N+1)\n",
    "    for i in range(N):\n",
    "        a[i] = matrix[i,N]\n",
    "    for j in range(N+1):\n",
    "        if(j==0):\n",
    "            p = [None] * (N-j+1)\n",
    "            for k in range(N+1):\n",
    "                p[k] = max(0,E-a[k])\n",
    "        else:\n",
    "            q=p\n",
    "            for k in range(N+1-j):\n",
    "                x = p[k]*pro\n",
    "                y = p[k+1]*(1-pro)\n",
    "                q[k] = (x+y)/R\n",
    "    op = q[0]\n",
    "    return op"
   ]
  },
  {
   "cell_type": "code",
   "execution_count": 20,
   "id": "e03cd400",
   "metadata": {},
   "outputs": [
    {
     "name": "stdout",
     "output_type": "stream",
     "text": [
      "Call option price for N = 4 is -  127.95141895725948\n",
      "Put option price for N = 4 is -  563.1719313143639\n"
     ]
    }
   ],
   "source": [
    "#For N = 4\n",
    "call4 = call(4)\n",
    "print(\"Call option price for N = 4 is - \",call4)\n",
    "put4 = put(4)\n",
    "print(\"Put option price for N = 4 is - \",put4)"
   ]
  },
  {
   "cell_type": "code",
   "execution_count": 21,
   "id": "c9d2e90b",
   "metadata": {},
   "outputs": [
    {
     "name": "stdout",
     "output_type": "stream",
     "text": [
      "Call option price for N = 5 is -  128.8906517393389\n",
      "Put option price for N = 5 is -  266.80784257211303\n"
     ]
    }
   ],
   "source": [
    "#For N = 5\n",
    "call5 = call(5)\n",
    "print(\"Call option price for N = 5 is - \",call5)\n",
    "put5 = put(5)\n",
    "print(\"Put option price for N = 5 is - \",put5)"
   ]
  },
  {
   "cell_type": "code",
   "execution_count": 22,
   "id": "686c7865",
   "metadata": {},
   "outputs": [
    {
     "name": "stdout",
     "output_type": "stream",
     "text": [
      "Call option price for N = 10 is -  128.33366544982462\n",
      "Put option price for N = 10 is -  12.558486399362902\n"
     ]
    }
   ],
   "source": [
    "#For N = 10\n",
    "call10 = call(10)\n",
    "print(\"Call option price for N = 10 is - \",call10)\n",
    "put10 = put(10)\n",
    "print(\"Put option price for N = 10 is - \",put10)"
   ]
  },
  {
   "cell_type": "code",
   "execution_count": null,
   "id": "645d5196",
   "metadata": {},
   "outputs": [],
   "source": []
  }
 ],
 "metadata": {
  "kernelspec": {
   "display_name": "Python 3 (ipykernel)",
   "language": "python",
   "name": "python3"
  },
  "language_info": {
   "codemirror_mode": {
    "name": "ipython",
    "version": 3
   },
   "file_extension": ".py",
   "mimetype": "text/x-python",
   "name": "python",
   "nbconvert_exporter": "python",
   "pygments_lexer": "ipython3",
   "version": "3.9.12"
  }
 },
 "nbformat": 4,
 "nbformat_minor": 5
}
